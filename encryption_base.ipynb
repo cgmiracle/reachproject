{
 "cells": [
  {
   "cell_type": "code",
   "execution_count": 51,
   "metadata": {},
   "outputs": [
    {
     "name": "stdout",
     "output_type": "stream",
     "text": [
      "Please enter full file name of the file you wish to encrypt: BBC.txt\n"
     ]
    }
   ],
   "source": [
    "#Choose File to encrypt\n",
    "input_file = input('Please enter full file name of the file you wish to encrypt: ')"
   ]
  },
  {
   "cell_type": "code",
   "execution_count": 52,
   "metadata": {},
   "outputs": [],
   "source": [
    "#Source of cryptography module:\n",
    "#https://github.com/pyca/cryptography\n",
    "\n",
    "#Guide to create encryption tool:\n",
    "#https://www.geeksforgeeks.org/encrypt-and-decrypt-files-using-python/\n",
    "\n",
    "#Importing a module that encrypts files \n",
    "from cryptography.fernet import Fernet"
   ]
  },
  {
   "cell_type": "code",
   "execution_count": 53,
   "metadata": {},
   "outputs": [],
   "source": [
    "#Generate a key that will be used to encrpyt the file\n",
    "encryption_key = Fernet.generate_key()\n",
    "\n",
    "#Store the generated key in as file\n",
    "with open(input_file+'_'+'filekey.encryption_key', 'wb') as filekey:\n",
    "    filekey.write(encryption_key)"
   ]
  },
  {
   "cell_type": "code",
   "execution_count": 54,
   "metadata": {},
   "outputs": [],
   "source": [
    "#Encryption of the file\n",
    "\n",
    "#Open the key\n",
    "with open(input_file+'_'+'filekey.encryption_key', 'rb') as filekey:\n",
    "    encryption_key = filekey.read()\n",
    "    \n",
    "#Use teh generated key\n",
    "fernet = Fernet(encryption_key)\n",
    "\n",
    "#opening the orginal file to encrypt\n",
    "with open(input_file, 'rb') as file:\n",
    "    original_file = file.read()\n",
    "    \n",
    "#Encrypt the file using the key\n",
    "encryption = fernet.encrypt(original_file)\n",
    "\n",
    "#Open the file and write the encrypted data\n",
    "with open(input_file, 'wb') as encrypted_file:\n",
    "    encrypted_file.write(encryption)"
   ]
  },
  {
   "cell_type": "code",
   "execution_count": 55,
   "metadata": {},
   "outputs": [],
   "source": [
    "#Decryption of the file\n",
    "\n",
    "#Use the key\n",
    "fernet = Fernet(encryption_key)\n",
    "\n",
    "#Open the encrypted file\n",
    "with open(input_file, 'rb') as enc_file:\n",
    "    encrypted_file = enc_file.read()\n",
    "    \n",
    "#Decrypting the file\n",
    "decrypted_file = fernet.decrypt(encrypted_file)\n",
    "\n",
    "#Oen the file and write the decrypted data\n",
    "with open(input_file, 'wb') as dec_file:\n",
    "    dec_file.write(decrypted_file)"
   ]
  },
  {
   "cell_type": "code",
   "execution_count": null,
   "metadata": {},
   "outputs": [],
   "source": []
  }
 ],
 "metadata": {
  "kernelspec": {
   "display_name": "Python 3",
   "language": "python",
   "name": "python3"
  },
  "language_info": {
   "codemirror_mode": {
    "name": "ipython",
    "version": 3
   },
   "file_extension": ".py",
   "mimetype": "text/x-python",
   "name": "python",
   "nbconvert_exporter": "python",
   "pygments_lexer": "ipython3",
   "version": "3.8.5"
  }
 },
 "nbformat": 4,
 "nbformat_minor": 4
}
