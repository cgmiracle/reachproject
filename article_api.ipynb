{
 "cells": [
  {
   "cell_type": "code",
   "execution_count": 47,
   "metadata": {},
   "outputs": [],
   "source": [
    "#TAKE OUT API CODE BEFORE LOADING TO GITHUB\n",
    "\n",
    "#using NewsAPI to get new data for encrypting\n",
    "\n",
    "import requests\n",
    "from newsapi import NewsApiClient\n",
    "#from config import apiKey\n",
    "#Initilize API\n",
    "#newsapi = NewsApiClient(api_key = config.apiKey)\n",
    "\n",
    "newsapi = NewsApiClient(api_key = 'de5151d82dfa46008dad2a320afefc4f')"
   ]
  },
  {
   "cell_type": "code",
   "execution_count": 48,
   "metadata": {},
   "outputs": [],
   "source": [
    "#Function that pulls the top story from BBC News\n",
    "\n",
    "def BBCNews():\n",
    "    query_params = {\n",
    "        'source': 'bbc-news',\n",
    "        'sortBy': 'top',\n",
    "        'apiKey': \"de5151d82dfa46008dad2a320afefc4f\"\n",
    "    }\n",
    "    url = 'https://newsapi.org/v1/articles'\n",
    "    \n",
    "    #fetch data and return in JSON format\n",
    "    request = requests.get(url, params=query_params)\n",
    "    open_page = request.json()\n",
    "    \n",
    "    #get articles as strings\n",
    "    article = open_page['articles']\n",
    "    \n",
    "    #create a list that will store the news results\n",
    "    news_results = []\n",
    "    \n",
    "    #loop to append to results\n",
    "    for i in article:\n",
    "        news_results.append(i['title'])\n",
    "        \n",
    "    for j in range(len(news_results)):\n",
    "        print(j + 1, news_results[j])\n",
    "    \n",
    "    #Write the output to a txt file to be used in encryption \n",
    "    with open(\"BBC.txt\", 'w') as file:\n",
    "        for row in news_results:\n",
    "            s = \" \".join(map(str, row))\n",
    "            file.write(s+'\\n')\n",
    "        "
   ]
  },
  {
   "cell_type": "code",
   "execution_count": 49,
   "metadata": {},
   "outputs": [
    {
     "name": "stdout",
     "output_type": "stream",
     "text": [
      "1 War in Ukraine: Russia says it may cut gas supplies if oil embargo goes ahead\n",
      "2 War in Ukraine: Crisis is unleashing 'hell on earth' for food prices\n",
      "3 War in Ukraine: World Bank approves $723m financial package\n",
      "4 Ukraine: Volodymyr Zelensky to address UK MPs in Commons\n",
      "5 Seven people killed in Iowa tornadoes\n",
      "6 Gretchen Whitmer: Trial due to begin in US governor kidnapping plot\n",
      "7 Amazon rainforest reaching tipping point, researchers say\n",
      "8 Sydney floods: Two killed and thousands forced to evacuate\n",
      "9 Bhavana Menon: India actress breaks silence on sexual assault\n",
      "10 North Korea: Construction spotted at Punggye-ri nuclear test site\n"
     ]
    }
   ],
   "source": [
    "# Driver Code\n",
    "if __name__ == '__main__':\n",
    "    BBCNews()"
   ]
  },
  {
   "cell_type": "code",
   "execution_count": 46,
   "metadata": {},
   "outputs": [
    {
     "name": "stdout",
     "output_type": "stream",
     "text": [
      "1 War in Ukraine: Russia says it may cut gas supplies if oil embargo goes ahead\n",
      "2 War in Ukraine: Crisis is unleashing 'hell on earth' for food prices\n",
      "3 War in Ukraine: World Bank approves $723m financial package\n",
      "4 Ukraine conflict: Your guide to understanding day 12\n",
      "5 Seven people killed in Iowa tornadoes\n",
      "6 Gretchen Whitmer: Trial due to begin in US governor kidnapping plot\n",
      "7 Sydney floods: Two killed and thousands forced to evacuate\n",
      "8 Bhavana Menon: India actress breaks silence on sexual assault\n",
      "9 North Korea: Construction spotted at Punggye-ri nuclear test site\n",
      "10 Ukraine conflict: Petrol at fresh record as oil and gas prices soar\n"
     ]
    }
   ],
   "source": [
    "BBCNews()"
   ]
  },
  {
   "cell_type": "code",
   "execution_count": null,
   "metadata": {},
   "outputs": [],
   "source": []
  }
 ],
 "metadata": {
  "kernelspec": {
   "display_name": "Python 3",
   "language": "python",
   "name": "python3"
  },
  "language_info": {
   "codemirror_mode": {
    "name": "ipython",
    "version": 3
   },
   "file_extension": ".py",
   "mimetype": "text/x-python",
   "name": "python",
   "nbconvert_exporter": "python",
   "pygments_lexer": "ipython3",
   "version": "3.8.5"
  }
 },
 "nbformat": 4,
 "nbformat_minor": 4
}
